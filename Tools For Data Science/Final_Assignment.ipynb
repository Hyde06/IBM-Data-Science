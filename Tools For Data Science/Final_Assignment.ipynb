{
 "cells": [
  {
   "cell_type": "markdown",
   "metadata": {},
   "source": [
    "<center>\n",
    "    <img src=\"https://s3-api.us-geo.objectstorage.softlayer.net/cf-courses-data/CognitiveClass/Logos/organization_logo/organization_logo.png\" width=\"300\" alt=\"cognitiveclass.ai logo\"  />\n",
    "</center>\n"
   ]
  },
  {
   "cell_type": "markdown",
   "metadata": {},
   "source": [
    "#### Add your code below following the instructions given in the course\n"
   ]
  },
  {
   "cell_type": "markdown",
   "metadata": {},
   "source": [
    "# My Jupyter Notebook on IBM Watson Studio"
   ]
  },
  {
   "cell_type": "markdown",
   "metadata": {},
   "source": [
    "__HAIDER SULTAN__ <br>\n",
    "Data Scientist"
   ]
  },
  {
   "cell_type": "markdown",
   "metadata": {},
   "source": [
    "*I am interested in Data Science because i am curious about the various relation once can derive between scattered data to arrive on actionable insights. Through statistics, programming and model building I want to answer questions that have an imapct on the society*"
   ]
  },
  {
   "cell_type": "markdown",
   "metadata": {},
   "source": [
    "### The below should print Fibonacci series in half pyramid pattern"
   ]
  },
  {
   "cell_type": "code",
   "execution_count": 20,
   "metadata": {},
   "outputs": [
    {
     "name": "stdout",
     "output_type": "stream",
     "text": [
      "Enter the row size: 5\n",
      "1  \n",
      "1 2  \n",
      "3 5 8  \n",
      "13 21 34 55  \n",
      "89 144 233 377 610  \n"
     ]
    }
   ],
   "source": [
    "num_of_rows = int(input(\"Enter the row size: \"))\n",
    "a = 0\n",
    "b = 1\n",
    "c = a+b\n",
    "for i in range(1, num_of_rows+1):\n",
    "    for j in range(1, i+1):\n",
    "            print(c, end=\" \")\n",
    "            c = a+b\n",
    "            a = b\n",
    "            b = c\n",
    "    print(\" \")"
   ]
  },
  {
   "cell_type": "markdown",
   "metadata": {},
   "source": [
    "***\n",
    "1. Numbered\n",
    "2. List\n",
    "> - Bullet list 1\n",
    "> - Bullet list 2"
   ]
  }
 ],
 "metadata": {
  "kernelspec": {
   "display_name": "Python 3",
   "language": "python",
   "name": "python3"
  },
  "language_info": {
   "codemirror_mode": {
    "name": "ipython",
    "version": 3
   },
   "file_extension": ".py",
   "mimetype": "text/x-python",
   "name": "python",
   "nbconvert_exporter": "python",
   "pygments_lexer": "ipython3",
   "version": "3.7.6"
  }
 },
 "nbformat": 4,
 "nbformat_minor": 4
}
